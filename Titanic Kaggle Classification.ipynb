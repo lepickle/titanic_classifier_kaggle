{
 "cells": [
  {
   "cell_type": "code",
   "execution_count": 93,
   "metadata": {},
   "outputs": [
    {
     "name": "stdout",
     "output_type": "stream",
     "text": [
      "0.19.1\n"
     ]
    }
   ],
   "source": [
    "import sklearn as sk\n",
    "from sklearn.tree import DecisionTreeClassifier\n",
    "from sklearn.preprocessing import LabelEncoder\n",
    "from sklearn.svm import SVC\n",
    "import pandas as pd\n",
    "import numpy as np\n",
    "\n",
    "from sklearn.model_selection import cross_val_score\n",
    "\n",
    "print(sk.__version__)"
   ]
  },
  {
   "cell_type": "code",
   "execution_count": 94,
   "metadata": {
    "scrolled": true
   },
   "outputs": [
    {
     "name": "stdout",
     "output_type": "stream",
     "text": [
      "(712, 4)\n",
      "(712,)\n"
     ]
    }
   ],
   "source": [
    "gender_submission = pd.read_csv('gender_submission.csv')\n",
    "train = pd.read_csv('train.csv')\n",
    "test = pd.read_csv('test.csv')\n",
    "\n",
    "# classifier = DecisionTreeClassifier()\n",
    "dtclf = DecisionTreeClassifier()\n",
    "svmclf = SVC()\n",
    "\n",
    "enc = LabelEncoder()#label encoder for string features\n",
    "\n",
    "feature_cols = ['Survived', 'Pclass', 'Sex', 'Age', 'Embarked']\n",
    "label_cols = ['Survived']\n",
    "\n",
    "X = train.loc[:, feature_cols]\n",
    "X = X.dropna()\n",
    "y = X.Survived\n",
    "X = X.drop(['Survived'], axis = 1) #remove the survived column in the features\n",
    "\n",
    "print(X.shape)\n",
    "print(y.shape)\n",
    "\n",
    "X['Embarked'] = enc.fit_transform(X['Embarked'].astype(str))\n",
    "X['Sex'] = enc.fit_transform(X['Sex'].astype(str))\n",
    "\n"
   ]
  },
  {
   "cell_type": "code",
   "execution_count": 95,
   "metadata": {},
   "outputs": [
    {
     "name": "stdout",
     "output_type": "stream",
     "text": [
      "(332, 4)\n",
      "(332, 4)\n"
     ]
    }
   ],
   "source": [
    "feature_cols = ['Pclass', 'Sex', 'Age', 'Embarked']\n",
    "\n",
    "\n",
    "X_test = test.loc[:, feature_cols]\n",
    "# X_test = X_test.drop(['Survived'], axis = 1) #remove the survived column in the features\n",
    "y_test = gender_submission.Survived\n",
    "\n",
    "X_test['Embarked'] = enc.fit_transform(X_test['Embarked'].astype(str))\n",
    "X_test['Sex'] = enc.fit_transform(X_test['Sex'].astype(str))\n",
    "\n",
    "for index, row in X_test.iterrows():\n",
    "    if (np.isnan(row.Age)):\n",
    "        X_test = X_test.drop([index])\n",
    "        y_test = y_test.drop([index])\n",
    "    \n",
    "\n",
    "print(X_test.shape)\n",
    "print(X_test.shape)"
   ]
  },
  {
   "cell_type": "code",
   "execution_count": 96,
   "metadata": {},
   "outputs": [
    {
     "data": {
      "text/plain": [
       "0.8313253012048193"
      ]
     },
     "execution_count": 96,
     "metadata": {},
     "output_type": "execute_result"
    }
   ],
   "source": [
    "dtclf.fit(X, y)\n",
    "dtclf.score(X_test, y_test) "
   ]
  },
  {
   "cell_type": "code",
   "execution_count": 97,
   "metadata": {},
   "outputs": [
    {
     "data": {
      "text/plain": [
       "0.8313253012048193"
      ]
     },
     "execution_count": 97,
     "metadata": {},
     "output_type": "execute_result"
    }
   ],
   "source": [
    "\n",
    "svmclf.fit(X, y)\n",
    "svmclf.score(X_test, y_test)"
   ]
  },
  {
   "cell_type": "code",
   "execution_count": null,
   "metadata": {},
   "outputs": [],
   "source": []
  }
 ],
 "metadata": {
  "kernelspec": {
   "display_name": "Python 3",
   "language": "python",
   "name": "python3"
  },
  "language_info": {
   "codemirror_mode": {
    "name": "ipython",
    "version": 3
   },
   "file_extension": ".py",
   "mimetype": "text/x-python",
   "name": "python",
   "nbconvert_exporter": "python",
   "pygments_lexer": "ipython3",
   "version": "3.6.4"
  }
 },
 "nbformat": 4,
 "nbformat_minor": 2
}
